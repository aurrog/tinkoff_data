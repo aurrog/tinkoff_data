{
 "cells": [
  {
   "cell_type": "code",
   "execution_count": 1,
   "id": "8c383f4c",
   "metadata": {},
   "outputs": [],
   "source": [
    "import pandas as pd\n",
    "\n",
    "import seaborn as sns\n",
    "import matplotlib.pyplot as plt\n",
    "import scipy.stats"
   ]
  },
  {
   "cell_type": "code",
   "execution_count": 2,
   "id": "62f387fd",
   "metadata": {},
   "outputs": [],
   "source": [
    "df = pd.read_csv('hw_ab.csv')\n",
    "df.head()"
   ]
  },
  {
   "cell_type": "code",
   "execution_count": 4,
   "id": "a2134bb7",
   "metadata": {},
   "outputs": [
    {
     "data": {
      "text/plain": [
       "0        False\n",
       "1        False\n",
       "2        False\n",
       "3        False\n",
       "4        False\n",
       "         ...  \n",
       "94773    False\n",
       "94774    False\n",
       "94775    False\n",
       "94776    False\n",
       "94777    False\n",
       "Length: 94778, dtype: bool"
      ]
     },
     "execution_count": 4,
     "metadata": {},
     "output_type": "execute_result"
    }
   ],
   "source": [
    "df.duplicated()"
   ]
  },
  {
   "cell_type": "code",
   "execution_count": 22,
   "id": "b3d985ea",
   "metadata": {},
   "outputs": [
    {
     "data": {
      "text/html": [
       "<div>\n",
       "<style scoped>\n",
       "    .dataframe tbody tr th:only-of-type {\n",
       "        vertical-align: middle;\n",
       "    }\n",
       "\n",
       "    .dataframe tbody tr th {\n",
       "        vertical-align: top;\n",
       "    }\n",
       "\n",
       "    .dataframe thead th {\n",
       "        text-align: right;\n",
       "    }\n",
       "</style>\n",
       "<table border=\"1\" class=\"dataframe\">\n",
       "  <thead>\n",
       "    <tr style=\"text-align: right;\">\n",
       "      <th></th>\n",
       "      <th>date</th>\n",
       "      <th>id</th>\n",
       "      <th>group</th>\n",
       "      <th>converted</th>\n",
       "    </tr>\n",
       "  </thead>\n",
       "  <tbody>\n",
       "    <tr>\n",
       "      <th>0</th>\n",
       "      <td>2023-08-01</td>\n",
       "      <td>5030836</td>\n",
       "      <td>control</td>\n",
       "      <td>0</td>\n",
       "    </tr>\n",
       "    <tr>\n",
       "      <th>1</th>\n",
       "      <td>2023-08-01</td>\n",
       "      <td>5091425</td>\n",
       "      <td>control</td>\n",
       "      <td>0</td>\n",
       "    </tr>\n",
       "    <tr>\n",
       "      <th>2</th>\n",
       "      <td>2023-08-01</td>\n",
       "      <td>5106537</td>\n",
       "      <td>control</td>\n",
       "      <td>0</td>\n",
       "    </tr>\n",
       "    <tr>\n",
       "      <th>3</th>\n",
       "      <td>2023-08-01</td>\n",
       "      <td>4556522</td>\n",
       "      <td>control</td>\n",
       "      <td>0</td>\n",
       "    </tr>\n",
       "    <tr>\n",
       "      <th>4</th>\n",
       "      <td>2023-08-01</td>\n",
       "      <td>4002917</td>\n",
       "      <td>control</td>\n",
       "      <td>0</td>\n",
       "    </tr>\n",
       "    <tr>\n",
       "      <th>...</th>\n",
       "      <td>...</td>\n",
       "      <td>...</td>\n",
       "      <td>...</td>\n",
       "      <td>...</td>\n",
       "    </tr>\n",
       "    <tr>\n",
       "      <th>94773</th>\n",
       "      <td>2023-11-01</td>\n",
       "      <td>7729860</td>\n",
       "      <td>test</td>\n",
       "      <td>0</td>\n",
       "    </tr>\n",
       "    <tr>\n",
       "      <th>94774</th>\n",
       "      <td>2023-11-01</td>\n",
       "      <td>8088716</td>\n",
       "      <td>test</td>\n",
       "      <td>0</td>\n",
       "    </tr>\n",
       "    <tr>\n",
       "      <th>94775</th>\n",
       "      <td>2023-11-01</td>\n",
       "      <td>4478281</td>\n",
       "      <td>test</td>\n",
       "      <td>0</td>\n",
       "    </tr>\n",
       "    <tr>\n",
       "      <th>94776</th>\n",
       "      <td>2023-11-01</td>\n",
       "      <td>5710762</td>\n",
       "      <td>test</td>\n",
       "      <td>0</td>\n",
       "    </tr>\n",
       "    <tr>\n",
       "      <th>94777</th>\n",
       "      <td>2023-11-01</td>\n",
       "      <td>8505333</td>\n",
       "      <td>test</td>\n",
       "      <td>0</td>\n",
       "    </tr>\n",
       "  </tbody>\n",
       "</table>\n",
       "<p>94778 rows × 4 columns</p>\n",
       "</div>"
      ],
      "text/plain": [
       "             date       id    group  converted\n",
       "0      2023-08-01  5030836  control          0\n",
       "1      2023-08-01  5091425  control          0\n",
       "2      2023-08-01  5106537  control          0\n",
       "3      2023-08-01  4556522  control          0\n",
       "4      2023-08-01  4002917  control          0\n",
       "...           ...      ...      ...        ...\n",
       "94773  2023-11-01  7729860     test          0\n",
       "94774  2023-11-01  8088716     test          0\n",
       "94775  2023-11-01  4478281     test          0\n",
       "94776  2023-11-01  5710762     test          0\n",
       "94777  2023-11-01  8505333     test          0\n",
       "\n",
       "[94778 rows x 4 columns]"
      ]
     },
     "execution_count": 22,
     "metadata": {},
     "output_type": "execute_result"
    }
   ],
   "source": [
    "df = df.drop_duplicates()\n",
    "df"
   ]
  },
  {
   "cell_type": "code",
   "execution_count": 4,
   "id": "e260dbd6",
   "metadata": {},
   "outputs": [],
   "source": [
    "df['group'].value_counts()['control']"
   ]
  },
  {
   "cell_type": "code",
   "execution_count": 5,
   "id": "c46b0e1e",
   "metadata": {},
   "outputs": [],
   "source": [
    "df['group'].value_counts()['test']"
   ]
  },
  {
   "cell_type": "code",
   "execution_count": 6,
   "id": "be54c5c8",
   "metadata": {},
   "outputs": [],
   "source": [
    "df.info()"
   ]
  },
  {
   "cell_type": "code",
   "execution_count": 7,
   "id": "44fdac42",
   "metadata": {},
   "outputs": [],
   "source": [
    "df2 = df.groupby(['group', 'converted']).agg({'id':'nunique'}).reset_index()\n",
    "df2.columns = ['group', 'converted', 'count']\n",
    "df2"
   ]
  },
  {
   "cell_type": "code",
   "execution_count": 8,
   "id": "7ca2127e",
   "metadata": {},
   "outputs": [],
   "source": [
    "test_conversion = df2['count'][1]/df2['count'][0]\n",
    "control_conversion = df2['count'][3]/df2['count'][2]\n",
    "test_conversion"
   ]
  },
  {
   "cell_type": "code",
   "execution_count": 25,
   "id": "35b08e52",
   "metadata": {},
   "outputs": [
    {
     "name": "stdout",
     "output_type": "stream",
     "text": [
      "0.11606300697981513 0.13582611193565375\n"
     ]
    }
   ],
   "source": [
    "print(test_conversion, control_conversion)"
   ]
  },
  {
   "cell_type": "code",
   "execution_count": 28,
   "id": "e4c51b40",
   "metadata": {},
   "outputs": [
    {
     "name": "stdout",
     "output_type": "stream",
     "text": [
      "0.854497013319492\n"
     ]
    }
   ],
   "source": [
    "print(test_conversion/control_conversion)"
   ]
  },
  {
   "cell_type": "code",
   "execution_count": 9,
   "id": "fea8219e",
   "metadata": {},
   "outputs": [],
   "source": [
    "conv_test = df2['count'][3]\n",
    "seen_test = df['group'].value_counts()['test']\n",
    "\n",
    "conv_control = df2['count'][1]\n",
    "seen_control = df['group'].value_counts()['control']\n",
    "\n",
    "print((conv_test/seen_test)/(conv_control/seen_control)-1)"
   ]
  },
  {
   "cell_type": "code",
   "execution_count": 13,
   "id": "8b6887be",
   "metadata": {},
   "outputs": [
    {
     "name": "stdout",
     "output_type": "stream",
     "text": [
      "1.0\n",
      "1.0\n"
     ]
    },
    {
     "name": "stderr",
     "output_type": "stream",
     "text": [
      "C:\\Users\\aurrog\\AppData\\Local\\Temp\\ipykernel_9412\\66583066.py:3: DeprecationWarning: 'binom_test' is deprecated in favour of 'binomtest' from version 1.7.0 and will be removed in Scipy 1.12.0.\n",
      "  print(binom_test(x=[conv_test], n=seen_test, p = conv_test/seen_test))\n",
      "C:\\Users\\aurrog\\AppData\\Local\\Temp\\ipykernel_9412\\66583066.py:4: DeprecationWarning: 'binom_test' is deprecated in favour of 'binomtest' from version 1.7.0 and will be removed in Scipy 1.12.0.\n",
      "  print(binom_test(x=[conv_control], n=seen_control, p = conv_control/seen_control))\n"
     ]
    }
   ],
   "source": [
    "from scipy.stats import binom_test\n",
    "\n",
    "print(binom_test(x=[conv_test], n=seen_test, p = conv_test/seen_test))\n",
    "print(binom_test(x=[conv_control], n=seen_control, p = conv_control/seen_control))\n",
    "# print(binom_test(x=[conv_test, conv_control], n=seen_test+seen_control, p = conv_test/seen_test))"
   ]
  },
  {
   "cell_type": "code",
   "execution_count": 14,
   "id": "517a870b",
   "metadata": {},
   "outputs": [],
   "source": [
    "df3 = df.groupby(['date', 'group', 'converted']).agg({'id':'nunique'}).reset_index()\n",
    "df3.columns = ['date', 'group', 'converted', 'count']"
   ]
  },
  {
   "cell_type": "code",
   "execution_count": 15,
   "id": "21d15ae9",
   "metadata": {},
   "outputs": [
    {
     "data": {
      "text/html": [
       "<div>\n",
       "<style scoped>\n",
       "    .dataframe tbody tr th:only-of-type {\n",
       "        vertical-align: middle;\n",
       "    }\n",
       "\n",
       "    .dataframe tbody tr th {\n",
       "        vertical-align: top;\n",
       "    }\n",
       "\n",
       "    .dataframe thead th {\n",
       "        text-align: right;\n",
       "    }\n",
       "</style>\n",
       "<table border=\"1\" class=\"dataframe\">\n",
       "  <thead>\n",
       "    <tr style=\"text-align: right;\">\n",
       "      <th></th>\n",
       "      <th>date</th>\n",
       "      <th>group</th>\n",
       "      <th>converted</th>\n",
       "      <th>count</th>\n",
       "    </tr>\n",
       "  </thead>\n",
       "  <tbody>\n",
       "    <tr>\n",
       "      <th>0</th>\n",
       "      <td>2023-08-01</td>\n",
       "      <td>control</td>\n",
       "      <td>0</td>\n",
       "      <td>467</td>\n",
       "    </tr>\n",
       "    <tr>\n",
       "      <th>1</th>\n",
       "      <td>2023-08-01</td>\n",
       "      <td>control</td>\n",
       "      <td>1</td>\n",
       "      <td>45</td>\n",
       "    </tr>\n",
       "    <tr>\n",
       "      <th>2</th>\n",
       "      <td>2023-08-01</td>\n",
       "      <td>test</td>\n",
       "      <td>0</td>\n",
       "      <td>450</td>\n",
       "    </tr>\n",
       "    <tr>\n",
       "      <th>3</th>\n",
       "      <td>2023-08-01</td>\n",
       "      <td>test</td>\n",
       "      <td>1</td>\n",
       "      <td>63</td>\n",
       "    </tr>\n",
       "    <tr>\n",
       "      <th>4</th>\n",
       "      <td>2023-08-02</td>\n",
       "      <td>control</td>\n",
       "      <td>0</td>\n",
       "      <td>449</td>\n",
       "    </tr>\n",
       "    <tr>\n",
       "      <th>...</th>\n",
       "      <td>...</td>\n",
       "      <td>...</td>\n",
       "      <td>...</td>\n",
       "      <td>...</td>\n",
       "    </tr>\n",
       "    <tr>\n",
       "      <th>367</th>\n",
       "      <td>2023-10-31</td>\n",
       "      <td>test</td>\n",
       "      <td>1</td>\n",
       "      <td>68</td>\n",
       "    </tr>\n",
       "    <tr>\n",
       "      <th>368</th>\n",
       "      <td>2023-11-01</td>\n",
       "      <td>control</td>\n",
       "      <td>0</td>\n",
       "      <td>479</td>\n",
       "    </tr>\n",
       "    <tr>\n",
       "      <th>369</th>\n",
       "      <td>2023-11-01</td>\n",
       "      <td>control</td>\n",
       "      <td>1</td>\n",
       "      <td>49</td>\n",
       "    </tr>\n",
       "    <tr>\n",
       "      <th>370</th>\n",
       "      <td>2023-11-01</td>\n",
       "      <td>test</td>\n",
       "      <td>0</td>\n",
       "      <td>476</td>\n",
       "    </tr>\n",
       "    <tr>\n",
       "      <th>371</th>\n",
       "      <td>2023-11-01</td>\n",
       "      <td>test</td>\n",
       "      <td>1</td>\n",
       "      <td>49</td>\n",
       "    </tr>\n",
       "  </tbody>\n",
       "</table>\n",
       "<p>372 rows × 4 columns</p>\n",
       "</div>"
      ],
      "text/plain": [
       "           date    group  converted  count\n",
       "0    2023-08-01  control          0    467\n",
       "1    2023-08-01  control          1     45\n",
       "2    2023-08-01     test          0    450\n",
       "3    2023-08-01     test          1     63\n",
       "4    2023-08-02  control          0    449\n",
       "..          ...      ...        ...    ...\n",
       "367  2023-10-31     test          1     68\n",
       "368  2023-11-01  control          0    479\n",
       "369  2023-11-01  control          1     49\n",
       "370  2023-11-01     test          0    476\n",
       "371  2023-11-01     test          1     49\n",
       "\n",
       "[372 rows x 4 columns]"
      ]
     },
     "execution_count": 15,
     "metadata": {},
     "output_type": "execute_result"
    }
   ],
   "source": [
    "df3"
   ]
  },
  {
   "cell_type": "code",
   "execution_count": 16,
   "id": "3e3f4ade",
   "metadata": {},
   "outputs": [
    {
     "name": "stdout",
     "output_type": "stream",
     "text": [
      "<class 'pandas.core.frame.DataFrame'>\n",
      "RangeIndex: 372 entries, 0 to 371\n",
      "Data columns (total 4 columns):\n",
      " #   Column     Non-Null Count  Dtype         \n",
      "---  ------     --------------  -----         \n",
      " 0   date       372 non-null    datetime64[ns]\n",
      " 1   group      372 non-null    object        \n",
      " 2   converted  372 non-null    int64         \n",
      " 3   count      372 non-null    int64         \n",
      "dtypes: datetime64[ns](1), int64(2), object(1)\n",
      "memory usage: 11.8+ KB\n"
     ]
    }
   ],
   "source": [
    "df3['date'] = pd.to_datetime(df3['date'])\n",
    "df3.info()"
   ]
  },
  {
   "cell_type": "code",
   "execution_count": 17,
   "id": "b2eb4ebd",
   "metadata": {},
   "outputs": [],
   "source": [
    "index = 0\n",
    "test_date = []\n",
    "test_count = []\n",
    "\n",
    "for i in df3['date']:\n",
    "    if df3['group'][index] == 'test' and df3['converted'][index] == 1:\n",
    "       test_date.append(i)\n",
    "       test_count.append(df3['count'][index])\n",
    "    index+=1\n"
   ]
  },
  {
   "cell_type": "code",
   "execution_count": 19,
   "id": "163b5f30",
   "metadata": {},
   "outputs": [
    {
     "data": {
      "text/plain": [
       "[<matplotlib.lines.Line2D at 0x17c95c86aa0>]"
      ]
     },
     "execution_count": 19,
     "metadata": {},
     "output_type": "execute_result"
    },
    {
     "data": {
      "image/png": "[encoded data removed]",
      "text/plain": [
       "<Figure size 640x480 with 1 Axes>"
      ]
     },
     "metadata": {},
     "output_type": "display_data"
    }
   ],
   "source": [
    "plt.plot(test_date, test_count)"
   ]
  },
  {
   "cell_type": "code",
   "execution_count": 27,
   "id": "e280b3c1",
   "metadata": {},
   "outputs": [
    {
     "data": {
      "text/plain": [
       "93"
      ]
     },
     "execution_count": 27,
     "metadata": {},
     "output_type": "execute_result"
    }
   ],
   "source": [
    "len(test_count)"
   ]
  },
  {
   "cell_type": "code",
   "execution_count": 24,
   "id": "c6c39d83",
   "metadata": {},
   "outputs": [
    {
     "data": {
      "text/plain": [
       "123"
      ]
     },
     "execution_count": 24,
     "metadata": {},
     "output_type": "execute_result"
    }
   ],
   "source": []
  },
  {
   "cell_type": "code",
   "execution_count": 34,
   "id": "def48ec0",
   "metadata": {},
   "outputs": [
    {
     "data": {
      "text/plain": [
       "Text(0, 0.5, 'count')"
      ]
     },
     "execution_count": 34,
     "metadata": {},
     "output_type": "execute_result"
    },
    {
     "data": {
      "image/png": "[encoded data removed]",
      "text/plain": [
       "<Figure size 600x400 with 1 Axes>"
      ]
     },
     "metadata": {},
     "output_type": "display_data"
    }
   ],
   "source": [
    "fig = plt.figure(figsize=(6, 4))\n",
    "ax = fig.add_subplot()\n",
    "ax.bar(test_date, test_count)\n",
    "ax.grid()\n",
    "ax.set_xlabel('date')\n",
    "ax.set_ylabel('count')"
   ]
  },
  {
   "cell_type": "code",
   "execution_count": 20,
   "id": "0b2ea3ef",
   "metadata": {},
   "outputs": [
    {
     "data": {
      "text/plain": [
       "<Axes: >"
      ]
     },
     "execution_count": 20,
     "metadata": {},
     "output_type": "execute_result"
    },
    {
     "data": {
      "image/png": "[encoded data removed]",
      "text/plain": [
       "<Figure size 640x480 with 1 Axes>"
      ]
     },
     "metadata": {},
     "output_type": "display_data"
    }
   ],
   "source": [
    "sns.barplot(x=test_date, y=test_count)"
   ]
  },
  {
   "cell_type": "code",
   "execution_count": 24,
   "id": "e0256e67",
   "metadata": {},
   "outputs": [
    {
     "data": {
      "text/plain": [
       "<Axes: xlabel='converted', ylabel='count'>"
      ]
     },
     "execution_count": 24,
     "metadata": {},
     "output_type": "execute_result"
    },
    {
     "data": {
      "image/png": "[encoded data removed]",
      "text/plain": [
       "<Figure size 640x480 with 1 Axes>"
      ]
     },
     "metadata": {},
     "output_type": "display_data"
    }
   ],
   "source": [
    "sns.countplot(x=df['converted'])"
   ]
  },
  {
   "cell_type": "code",
   "execution_count": null,
   "id": "0218c4ae",
   "metadata": {},
   "outputs": [],
   "source": []
  }
 ],
 "metadata": {
  "kernelspec": {
   "display_name": "Python 3 (ipykernel)",
   "language": "python",
   "name": "python3"
  },
  "language_info": {
   "codemirror_mode": {
    "name": "ipython",
    "version": 3
   },
   "file_extension": ".py",
   "mimetype": "text/x-python",
   "name": "python",
   "nbconvert_exporter": "python",
   "pygments_lexer": "ipython3",
   "version": "3.10.4"
  }
 },
 "nbformat": 4,
 "nbformat_minor": 5
}
